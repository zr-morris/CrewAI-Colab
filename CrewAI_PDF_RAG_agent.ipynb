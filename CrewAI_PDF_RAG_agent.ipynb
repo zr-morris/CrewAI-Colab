{
  "nbformat": 4,
  "nbformat_minor": 0,
  "metadata": {
    "colab": {
      "provenance": [],
      "authorship_tag": "ABX9TyN+R9nSF/jxLjIs0e+U80YF",
      "include_colab_link": true
    },
    "kernelspec": {
      "name": "python3",
      "display_name": "Python 3"
    },
    "language_info": {
      "name": "python"
    }
  },
  "cells": [
    {
      "cell_type": "markdown",
      "metadata": {
        "id": "view-in-github",
        "colab_type": "text"
      },
      "source": [
        "<a href=\"https://colab.research.google.com/github/zr-morris/CrewAI-Colab/blob/main/CrewAI_PDF_RAG_agent.ipynb\" target=\"_parent\"><img src=\"https://colab.research.google.com/assets/colab-badge.svg\" alt=\"Open In Colab\"/></a>"
      ]
    },
    {
      "cell_type": "code",
      "execution_count": null,
      "metadata": {
        "id": "hvEPnGis1Cpc"
      },
      "outputs": [],
      "source": [
        "!pip install crewai crewai[tools]"
      ]
    },
    {
      "cell_type": "code",
      "source": [
        "import os\n",
        "import ipywidgets as widgets\n",
        "from IPython.display import display, Markdown, clear_output\n",
        "import chardet\n",
        "\n",
        "# Assuming the placeholder imports match your project's structure\n",
        "from crewai import Agent, Task, Crew\n",
        "from crewai_tools import DirectoryReadTool, PDFSearchTool\n",
        "\n",
        "def on_submit(b):\n",
        "    api_key = api_key_widget.value\n",
        "    directory_path = directory_path_widget.value\n",
        "    task_description = task_description_widget.value.strip()\n",
        "\n",
        "    if not api_key or not directory_path or not task_description:\n",
        "        with output:\n",
        "            clear_output()\n",
        "            print(\"Please fill out all fields.\")\n",
        "        return\n",
        "\n",
        "    try:\n",
        "        os.environ[\"OPENAI_API_KEY\"] = api_key\n",
        "\n",
        "        # Instantiate tools with the user-provided directory path\n",
        "        docs_tool = DirectoryReadTool(directory=directory_path)\n",
        "        pdf_rag_tool = PDFSearchTool()\n",
        "\n",
        "        # Create agents with the instantiated tools\n",
        "        software_agent = Agent(\n",
        "            role='Software Revenue Agent',\n",
        "            goal='Research accounting standards for software revenue recognition',\n",
        "            backstory=\"\"\"You are an expert certified professional accountant with specialized knowledge about the software industry accounting standards.\"\"\",\n",
        "            allow_delegation=False,\n",
        "            verbose=True,\n",
        "            max_iter=10,\n",
        "            tools=[docs_tool, pdf_rag_tool]\n",
        "        )\n",
        "\n",
        "        # Dynamically create a task with the user input\n",
        "        dynamic_task = Task(\n",
        "            description=task_description,\n",
        "            expected_output='A professionally formatted analytical report that answers the question completely',\n",
        "            agent=software_agent,\n",
        "            output_file='compiled_report_dynamic.md'\n",
        "        )\n",
        "\n",
        "        # Assemble and execute the task with Crew\n",
        "        crew = Crew(\n",
        "            agents=[software_agent],\n",
        "            tasks=[dynamic_task],\n",
        "            verbose=True\n",
        "        )\n",
        "        crew.kickoff()\n",
        "\n",
        "        # Display the content of the generated markdown file\n",
        "        display_markdown(dynamic_task.output_file)\n",
        "\n",
        "    except Exception as e:\n",
        "        with output:\n",
        "            clear_output()\n",
        "            print(f\"Error: {str(e)}\")\n",
        "\n",
        "def display_markdown(file_path):\n",
        "    \"\"\"Load and display the markdown file content\"\"\"\n",
        "    with open(file_path, 'rb') as file:\n",
        "        raw_data = file.read()\n",
        "        encoding = chardet.detect(raw_data)['encoding']\n",
        "        if encoding:\n",
        "            content = raw_data.decode(encoding)\n",
        "            with output:\n",
        "                clear_output()\n",
        "                display(Markdown(content))\n",
        "        else:\n",
        "            with output:\n",
        "                clear_output()\n",
        "                print(\"Failed to detect file encoding.\")\n",
        "\n",
        "# Create label and input widgets\n",
        "api_key_label = widgets.Label('OpenAI API Key:')\n",
        "api_key_widget = widgets.Text(layout=widgets.Layout(width='90%'))\n",
        "\n",
        "directory_path_label = widgets.Label('Directory Path:')\n",
        "directory_path_widget = widgets.Text(layout=widgets.Layout(width='90%'))\n",
        "\n",
        "task_description_label = widgets.Label('Task Description:')\n",
        "task_description_widget = widgets.Textarea(layout=widgets.Layout(width='90%', height='200px'))\n",
        "\n",
        "submit_button = widgets.Button(description=\"Submit\")\n",
        "output = widgets.Output()\n",
        "\n",
        "submit_button.on_click(on_submit)\n",
        "\n",
        "# Display widgets with labels\n",
        "display(api_key_label, api_key_widget)\n",
        "display(directory_path_label, directory_path_widget)\n",
        "display(task_description_label, task_description_widget)\n",
        "display(submit_button, output)\n"
      ],
      "metadata": {
        "id": "Nhce0yQY1Gfc"
      },
      "execution_count": null,
      "outputs": []
    }
  ]
}